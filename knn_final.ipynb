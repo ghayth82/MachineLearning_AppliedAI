{
 "cells": [
  {
   "cell_type": "code",
   "execution_count": 1,
   "metadata": {},
   "outputs": [],
   "source": [
    "#importing our required libraries\n",
    "%matplotlib inline\n",
    "import warnings\n",
    "warnings.filterwarnings(\"ignore\")\n",
    "warnings.filterwarnings(action='ignore', category=UserWarning, module='gensim')\n",
    "import sqlite3\n",
    "import pandas as pd\n",
    "import numpy as np\n",
    "import nltk\n",
    "import string\n",
    "import matplotlib.pyplot as plt\n",
    "import seaborn as sns\n",
    "from sklearn.model_selection import GridSearchCV\n",
    "from sklearn.feature_extraction.text import TfidfTransformer\n",
    "from sklearn.feature_extraction.text import TfidfVectorizer\n",
    "from sklearn.feature_extraction.text import CountVectorizer\n",
    "from sklearn.metrics import confusion_matrix\n",
    "from sklearn.model_selection import train_test_split\n",
    "from sklearn import preprocessing\n",
    "from sklearn import metrics\n",
    "from sklearn.model_selection import TimeSeriesSplit\n",
    "from sklearn.metrics import roc_curve, auc\n",
    "from nltk.stem.porter import PorterStemmer\n",
    "from sklearn.neighbors import KNeighborsClassifier\n",
    "import gensim\n",
    "import re\n",
    "import string\n",
    "from nltk.corpus import stopwords\n",
    "from nltk.stem import PorterStemmer\n",
    "from nltk.stem.wordnet import WordNetLemmatizer\n",
    "from gensim.models import Word2Vec\n",
    "from gensim.models import KeyedVectors\n",
    "import pickle\n",
    "from sklearn.preprocessing import StandardScaler\n",
    "from sklearn.decomposition import TruncatedSVD\n",
    "from sklearn.metrics import accuracy_score\n",
    "from sklearn.metrics import confusion_matrix\n",
    "from sklearn.metrics import precision_score\n",
    "from sklearn.metrics import f1_score\n",
    "from sklearn.metrics import recall_score\n",
    "from sklearn.preprocessing import LabelBinarizer"
   ]
  },
  {
   "cell_type": "code",
   "execution_count": 2,
   "metadata": {},
   "outputs": [
    {
     "name": "stdout",
     "output_type": "stream",
     "text": [
      "(525814, 10)\n"
     ]
    },
    {
     "data": {
      "text/html": [
       "<div>\n",
       "<style scoped>\n",
       "    .dataframe tbody tr th:only-of-type {\n",
       "        vertical-align: middle;\n",
       "    }\n",
       "\n",
       "    .dataframe tbody tr th {\n",
       "        vertical-align: top;\n",
       "    }\n",
       "\n",
       "    .dataframe thead th {\n",
       "        text-align: right;\n",
       "    }\n",
       "</style>\n",
       "<table border=\"1\" class=\"dataframe\">\n",
       "  <thead>\n",
       "    <tr style=\"text-align: right;\">\n",
       "      <th></th>\n",
       "      <th>Id</th>\n",
       "      <th>ProductId</th>\n",
       "      <th>UserId</th>\n",
       "      <th>ProfileName</th>\n",
       "      <th>HelpfulnessNumerator</th>\n",
       "      <th>HelpfulnessDenominator</th>\n",
       "      <th>Score</th>\n",
       "      <th>Time</th>\n",
       "      <th>Summary</th>\n",
       "      <th>Text</th>\n",
       "    </tr>\n",
       "  </thead>\n",
       "  <tbody>\n",
       "    <tr>\n",
       "      <th>0</th>\n",
       "      <td>1</td>\n",
       "      <td>B001E4KFG0</td>\n",
       "      <td>A3SGXH7AUHU8GW</td>\n",
       "      <td>delmartian</td>\n",
       "      <td>1</td>\n",
       "      <td>1</td>\n",
       "      <td>positive</td>\n",
       "      <td>1303862400</td>\n",
       "      <td>Good Quality Dog Food</td>\n",
       "      <td>I have bought several of the Vitality canned d...</td>\n",
       "    </tr>\n",
       "    <tr>\n",
       "      <th>1</th>\n",
       "      <td>2</td>\n",
       "      <td>B00813GRG4</td>\n",
       "      <td>A1D87F6ZCVE5NK</td>\n",
       "      <td>dll pa</td>\n",
       "      <td>0</td>\n",
       "      <td>0</td>\n",
       "      <td>negative</td>\n",
       "      <td>1346976000</td>\n",
       "      <td>Not as Advertised</td>\n",
       "      <td>Product arrived labeled as Jumbo Salted Peanut...</td>\n",
       "    </tr>\n",
       "  </tbody>\n",
       "</table>\n",
       "</div>"
      ],
      "text/plain": [
       "   Id   ProductId          UserId ProfileName  HelpfulnessNumerator  \\\n",
       "0   1  B001E4KFG0  A3SGXH7AUHU8GW  delmartian                     1   \n",
       "1   2  B00813GRG4  A1D87F6ZCVE5NK      dll pa                     0   \n",
       "\n",
       "   HelpfulnessDenominator     Score        Time                Summary  \\\n",
       "0                       1  positive  1303862400  Good Quality Dog Food   \n",
       "1                       0  negative  1346976000      Not as Advertised   \n",
       "\n",
       "                                                Text  \n",
       "0  I have bought several of the Vitality canned d...  \n",
       "1  Product arrived labeled as Jumbo Salted Peanut...  "
      ]
     },
     "execution_count": 2,
     "metadata": {},
     "output_type": "execute_result"
    }
   ],
   "source": [
    "DB_CONNECT = sqlite3.connect('database.sqlite') \n",
    "REVIEW_FILTERED = pd.read_sql_query(\"\"\" SELECT * FROM Reviews WHERE Score != 3 \"\"\",DB_CONNECT)\n",
    "# here, we are omitting reviews =3 and then returning new dataframe into REVIEW_FILTERED\n",
    "def polarity(rev):\n",
    "    if rev<3:\n",
    "        return 'negative'\n",
    "    return 'positive'\n",
    "actualScore=REVIEW_FILTERED['Score'] #score column is copied to actual score\n",
    "positiveNegative=actualScore.map(polarity)# mapping the column to polarity method and returning strings(positive,negative) \n",
    "REVIEW_FILTERED['Score']=positiveNegative # replacing the columns in our data with positive/negative strings\n",
    "print(REVIEW_FILTERED.shape) #looking at the number of attributes and size of the data\n",
    "REVIEW_FILTERED.head(2)"
   ]
  },
  {
   "cell_type": "markdown",
   "metadata": {},
   "source": [
    "#                               TEXT-PRE PROCESSING PHASE"
   ]
  },
  {
   "cell_type": "code",
   "execution_count": 3,
   "metadata": {},
   "outputs": [
    {
     "data": {
      "text/html": [
       "<div>\n",
       "<style scoped>\n",
       "    .dataframe tbody tr th:only-of-type {\n",
       "        vertical-align: middle;\n",
       "    }\n",
       "\n",
       "    .dataframe tbody tr th {\n",
       "        vertical-align: top;\n",
       "    }\n",
       "\n",
       "    .dataframe thead th {\n",
       "        text-align: right;\n",
       "    }\n",
       "</style>\n",
       "<table border=\"1\" class=\"dataframe\">\n",
       "  <thead>\n",
       "    <tr style=\"text-align: right;\">\n",
       "      <th></th>\n",
       "      <th>Id</th>\n",
       "      <th>ProductId</th>\n",
       "      <th>UserId</th>\n",
       "      <th>ProfileName</th>\n",
       "      <th>HelpfulnessNumerator</th>\n",
       "      <th>HelpfulnessDenominator</th>\n",
       "      <th>Score</th>\n",
       "      <th>Time</th>\n",
       "      <th>Summary</th>\n",
       "      <th>Text</th>\n",
       "    </tr>\n",
       "  </thead>\n",
       "  <tbody>\n",
       "    <tr>\n",
       "      <th>0</th>\n",
       "      <td>1</td>\n",
       "      <td>B001E4KFG0</td>\n",
       "      <td>A3SGXH7AUHU8GW</td>\n",
       "      <td>delmartian</td>\n",
       "      <td>1</td>\n",
       "      <td>1</td>\n",
       "      <td>positive</td>\n",
       "      <td>1303862400</td>\n",
       "      <td>Good Quality Dog Food</td>\n",
       "      <td>I have bought several of the Vitality canned d...</td>\n",
       "    </tr>\n",
       "    <tr>\n",
       "      <th>1</th>\n",
       "      <td>2</td>\n",
       "      <td>B00813GRG4</td>\n",
       "      <td>A1D87F6ZCVE5NK</td>\n",
       "      <td>dll pa</td>\n",
       "      <td>0</td>\n",
       "      <td>0</td>\n",
       "      <td>negative</td>\n",
       "      <td>1346976000</td>\n",
       "      <td>Not as Advertised</td>\n",
       "      <td>Product arrived labeled as Jumbo Salted Peanut...</td>\n",
       "    </tr>\n",
       "  </tbody>\n",
       "</table>\n",
       "</div>"
      ],
      "text/plain": [
       "   Id   ProductId          UserId ProfileName  HelpfulnessNumerator  \\\n",
       "0   1  B001E4KFG0  A3SGXH7AUHU8GW  delmartian                     1   \n",
       "1   2  B00813GRG4  A1D87F6ZCVE5NK      dll pa                     0   \n",
       "\n",
       "   HelpfulnessDenominator     Score        Time                Summary  \\\n",
       "0                       1  positive  1303862400  Good Quality Dog Food   \n",
       "1                       0  negative  1346976000      Not as Advertised   \n",
       "\n",
       "                                                Text  \n",
       "0  I have bought several of the Vitality canned d...  \n",
       "1  Product arrived labeled as Jumbo Salted Peanut...  "
      ]
     },
     "execution_count": 3,
     "metadata": {},
     "output_type": "execute_result"
    }
   ],
   "source": [
    "#remove duplicate rows as we have duplicate product id with similar other data\n",
    "rem_dup=REVIEW_FILTERED.drop_duplicates(subset={\"UserId\",\"ProfileName\",\"Time\",\"Text\"},keep=\"first\")\n",
    "rem_dup.head(2)"
   ]
  },
  {
   "cell_type": "code",
   "execution_count": 4,
   "metadata": {},
   "outputs": [
    {
     "name": "stdout",
     "output_type": "stream",
     "text": [
      "(525814, 10)\n",
      "(364173, 10)\n"
     ]
    }
   ],
   "source": [
    "print(REVIEW_FILTERED.shape)\n",
    "print(rem_dup.shape)"
   ]
  },
  {
   "cell_type": "markdown",
   "metadata": {},
   "source": [
    "after removing duplicates , we have reduced the no .of rows from 525814 to 364173"
   ]
  },
  {
   "cell_type": "code",
   "execution_count": 5,
   "metadata": {},
   "outputs": [
    {
     "data": {
      "text/plain": [
       "(364171, 10)"
      ]
     },
     "execution_count": 5,
     "metadata": {},
     "output_type": "execute_result"
    }
   ],
   "source": [
    "# Take out the rows with heplful_num>helpful_den. As W've observed two rows in previous case\n",
    "df1=rem_dup[rem_dup.HelpfulnessNumerator<=rem_dup.HelpfulnessDenominator]\n",
    "df1.shape"
   ]
  },
  {
   "cell_type": "code",
   "execution_count": 6,
   "metadata": {},
   "outputs": [
    {
     "data": {
      "text/html": [
       "<div>\n",
       "<style scoped>\n",
       "    .dataframe tbody tr th:only-of-type {\n",
       "        vertical-align: middle;\n",
       "    }\n",
       "\n",
       "    .dataframe tbody tr th {\n",
       "        vertical-align: top;\n",
       "    }\n",
       "\n",
       "    .dataframe thead th {\n",
       "        text-align: right;\n",
       "    }\n",
       "</style>\n",
       "<table border=\"1\" class=\"dataframe\">\n",
       "  <thead>\n",
       "    <tr style=\"text-align: right;\">\n",
       "      <th></th>\n",
       "      <th>Id</th>\n",
       "      <th>ProductId</th>\n",
       "      <th>UserId</th>\n",
       "      <th>ProfileName</th>\n",
       "      <th>HelpfulnessNumerator</th>\n",
       "      <th>HelpfulnessDenominator</th>\n",
       "      <th>Score</th>\n",
       "      <th>Time</th>\n",
       "      <th>Summary</th>\n",
       "      <th>Text</th>\n",
       "    </tr>\n",
       "  </thead>\n",
       "  <tbody>\n",
       "    <tr>\n",
       "      <th>212494</th>\n",
       "      <td>230308</td>\n",
       "      <td>B00004RYGX</td>\n",
       "      <td>A3C3BAQDZWH5YE</td>\n",
       "      <td>Kushana no shinryaku (Kushana's invasion)</td>\n",
       "      <td>0</td>\n",
       "      <td>1</td>\n",
       "      <td>positive</td>\n",
       "      <td>1014681600</td>\n",
       "      <td>...</td>\n",
       "      <td>It was on the other night, and, having been a ...</td>\n",
       "    </tr>\n",
       "    <tr>\n",
       "      <th>156021</th>\n",
       "      <td>169214</td>\n",
       "      <td>B0001ES9FI</td>\n",
       "      <td>A2WE1DWPQRDBFW</td>\n",
       "      <td>Scotbuff</td>\n",
       "      <td>6</td>\n",
       "      <td>6</td>\n",
       "      <td>positive</td>\n",
       "      <td>1088035200</td>\n",
       "      <td>Full Bodied and Never Burnt</td>\n",
       "      <td>The Dark Roast is the best of the coffee pods ...</td>\n",
       "    </tr>\n",
       "    <tr>\n",
       "      <th>212527</th>\n",
       "      <td>230342</td>\n",
       "      <td>B00004RYGX</td>\n",
       "      <td>A19JYLHD94K94D</td>\n",
       "      <td>Itamar Katz</td>\n",
       "      <td>2</td>\n",
       "      <td>2</td>\n",
       "      <td>positive</td>\n",
       "      <td>1089244800</td>\n",
       "      <td>Remains one of my favorites</td>\n",
       "      <td>Re-watching Beetlejuice more than a decade aft...</td>\n",
       "    </tr>\n",
       "  </tbody>\n",
       "</table>\n",
       "</div>"
      ],
      "text/plain": [
       "            Id   ProductId          UserId  \\\n",
       "212494  230308  B00004RYGX  A3C3BAQDZWH5YE   \n",
       "156021  169214  B0001ES9FI  A2WE1DWPQRDBFW   \n",
       "212527  230342  B00004RYGX  A19JYLHD94K94D   \n",
       "\n",
       "                                      ProfileName  HelpfulnessNumerator  \\\n",
       "212494  Kushana no shinryaku (Kushana's invasion)                     0   \n",
       "156021                                   Scotbuff                     6   \n",
       "212527                                Itamar Katz                     2   \n",
       "\n",
       "        HelpfulnessDenominator     Score        Time  \\\n",
       "212494                       1  positive  1014681600   \n",
       "156021                       6  positive  1088035200   \n",
       "212527                       2  positive  1089244800   \n",
       "\n",
       "                            Summary  \\\n",
       "212494                          ...   \n",
       "156021  Full Bodied and Never Burnt   \n",
       "212527  Remains one of my favorites   \n",
       "\n",
       "                                                     Text  \n",
       "212494  It was on the other night, and, having been a ...  \n",
       "156021  The Dark Roast is the best of the coffee pods ...  \n",
       "212527  Re-watching Beetlejuice more than a decade aft...  "
      ]
     },
     "execution_count": 6,
     "metadata": {},
     "output_type": "execute_result"
    }
   ],
   "source": [
    "#It's better to sample our data upto 50k points as our dataset is huge\n",
    "sample_data=5000\n",
    "df1=df1.sample(sample_data)\n",
    "df1.sort_values('Time',inplace=True) #Sorting as we want according to time series\n",
    "df1.head(3)"
   ]
  },
  {
   "cell_type": "code",
   "execution_count": 7,
   "metadata": {},
   "outputs": [
    {
     "name": "stdout",
     "output_type": "stream",
     "text": [
      "[nltk_data] Downloading package stopwords to\n",
      "[nltk_data]     /home/kprk_25/nltk_data...\n",
      "[nltk_data]   Package stopwords is already up-to-date!\n",
      "CPU times: user 0 ns, sys: 0 ns, total: 0 ns\n",
      "Wall time: 5.96 µs\n",
      "text successfully pre-processed\n"
     ]
    }
   ],
   "source": [
    "nltk.download('stopwords')\n",
    "#pre-process each and every text review \n",
    "'''Function for HTML-Tag removal\n",
    " we are creating function which removes HTML scripts that present in our text reviews'''\n",
    "def rem_html_tags(review):\n",
    "    text=re.compile('<.*?>')# regular expressions that need to be find\n",
    "    return text.sub('',review) #replace nothing while above tags occur\n",
    "#Function for Punctuation marks removal\n",
    "def rem_punctuations(review):\n",
    "    text=re.compile(r'[?|!|\\'|\"|#|.|,|)|(|\\|/|~|%|*]')\n",
    "    return text.sub('',review)\n",
    "#Now, Intialise stop-words(most-common words which makes of no-value while vectoring)\n",
    "stop_words=set(stopwords.words('english')) #these are set of stopwords\n",
    "#Intialise snow-ball stemmer\n",
    "snow_stem=nltk.stem.SnowballStemmer('english') #returns root of some words\n",
    "from time import time\n",
    "%time\n",
    "count=0 # intializing counter for iterating through entire rows\n",
    "str1=''\n",
    "final_str=[]\n",
    "pos_words=[] #stores words from positive reviews\n",
    "neg_words=[] #stores words from negative reviews\n",
    "str2=''\n",
    "t0=time()\n",
    "for sentence in df1['Text'].values: # Iterate through all reviews\n",
    "  filtered_sentence=[] # creating a list which we append filtered words later\n",
    "  html_filtered=rem_html_tags(sentence) # returns HTML-filtered format\n",
    "  punct_filtered=rem_punctuations(html_filtered) # returns words with no-puctuation marks\n",
    "  half_filtered=punct_filtered.split() # contains words without HTML & punctuation marks\n",
    "  for word in half_filtered: # iterate through each word in review\n",
    "    if(word.isalpha() and len(word)>2): # checking whether all characters are alphabets and limiting length\n",
    "      if(word.lower() not in stop_words):\n",
    "        str2=(snow_stem.stem(word.lower())).encode('utf8') # stemming each and every word\n",
    "        filtered_sentence.append(str2) # updating our list with stemmed words\n",
    "        if (df1['Score'].values)[count]=='positive': \n",
    "          pos_words.append(str2) #list of all words used to describe positive reviews\n",
    "        if(df1['Score'].values)[count]=='negative':\n",
    "          neg_words.append(str2) #list of all words used to describe negative reviews reviews\n",
    "      else:\n",
    "        continue\n",
    "    else:\n",
    "      continue\n",
    "  str1 = b\" \".join(filtered_sentence) #final string of cleaned words\n",
    "  final_str.append(str1)\n",
    "  count+=1\n",
    "print(\"text successfully pre-processed\")"
   ]
  },
  {
   "cell_type": "code",
   "execution_count": 8,
   "metadata": {},
   "outputs": [
    {
     "data": {
      "text/html": [
       "<div>\n",
       "<style scoped>\n",
       "    .dataframe tbody tr th:only-of-type {\n",
       "        vertical-align: middle;\n",
       "    }\n",
       "\n",
       "    .dataframe tbody tr th {\n",
       "        vertical-align: top;\n",
       "    }\n",
       "\n",
       "    .dataframe thead th {\n",
       "        text-align: right;\n",
       "    }\n",
       "</style>\n",
       "<table border=\"1\" class=\"dataframe\">\n",
       "  <thead>\n",
       "    <tr style=\"text-align: right;\">\n",
       "      <th></th>\n",
       "      <th>Id</th>\n",
       "      <th>ProductId</th>\n",
       "      <th>UserId</th>\n",
       "      <th>ProfileName</th>\n",
       "      <th>HelpfulnessNumerator</th>\n",
       "      <th>HelpfulnessDenominator</th>\n",
       "      <th>Score</th>\n",
       "      <th>Time</th>\n",
       "      <th>Summary</th>\n",
       "      <th>Text</th>\n",
       "      <th>CleanedText</th>\n",
       "    </tr>\n",
       "  </thead>\n",
       "  <tbody>\n",
       "    <tr>\n",
       "      <th>212494</th>\n",
       "      <td>230308</td>\n",
       "      <td>B00004RYGX</td>\n",
       "      <td>A3C3BAQDZWH5YE</td>\n",
       "      <td>Kushana no shinryaku (Kushana's invasion)</td>\n",
       "      <td>0</td>\n",
       "      <td>1</td>\n",
       "      <td>positive</td>\n",
       "      <td>1014681600</td>\n",
       "      <td>...</td>\n",
       "      <td>It was on the other night, and, having been a ...</td>\n",
       "      <td>night big fan cartoon shown decid watch also t...</td>\n",
       "    </tr>\n",
       "    <tr>\n",
       "      <th>156021</th>\n",
       "      <td>169214</td>\n",
       "      <td>B0001ES9FI</td>\n",
       "      <td>A2WE1DWPQRDBFW</td>\n",
       "      <td>Scotbuff</td>\n",
       "      <td>6</td>\n",
       "      <td>6</td>\n",
       "      <td>positive</td>\n",
       "      <td>1088035200</td>\n",
       "      <td>Full Bodied and Never Burnt</td>\n",
       "      <td>The Dark Roast is the best of the coffee pods ...</td>\n",
       "      <td>dark roast best coffe pod avail senseo coffe m...</td>\n",
       "    </tr>\n",
       "  </tbody>\n",
       "</table>\n",
       "</div>"
      ],
      "text/plain": [
       "            Id   ProductId          UserId  \\\n",
       "212494  230308  B00004RYGX  A3C3BAQDZWH5YE   \n",
       "156021  169214  B0001ES9FI  A2WE1DWPQRDBFW   \n",
       "\n",
       "                                      ProfileName  HelpfulnessNumerator  \\\n",
       "212494  Kushana no shinryaku (Kushana's invasion)                     0   \n",
       "156021                                   Scotbuff                     6   \n",
       "\n",
       "        HelpfulnessDenominator     Score        Time  \\\n",
       "212494                       1  positive  1014681600   \n",
       "156021                       6  positive  1088035200   \n",
       "\n",
       "                            Summary  \\\n",
       "212494                          ...   \n",
       "156021  Full Bodied and Never Burnt   \n",
       "\n",
       "                                                     Text  \\\n",
       "212494  It was on the other night, and, having been a ...   \n",
       "156021  The Dark Roast is the best of the coffee pods ...   \n",
       "\n",
       "                                              CleanedText  \n",
       "212494  night big fan cartoon shown decid watch also t...  \n",
       "156021  dark roast best coffe pod avail senseo coffe m...  "
      ]
     },
     "execution_count": 8,
     "metadata": {},
     "output_type": "execute_result"
    }
   ],
   "source": [
    "df1['CleanedText']=final_str # adding new column to df1 by adding our filtered reviews\n",
    "df1['CleanedText']=df1['CleanedText'].str.decode(\"utf-8\") # standard decoding format\n",
    "df1.head(2)"
   ]
  },
  {
   "cell_type": "markdown",
   "metadata": {},
   "source": [
    "we've added extra column \"CleanedText\" with pre-processed review"
   ]
  },
  {
   "cell_type": "markdown",
   "metadata": {},
   "source": [
    "# BAG - OF - WORDS VECTORIZATION"
   ]
  },
  {
   "cell_type": "code",
   "execution_count": 9,
   "metadata": {},
   "outputs": [
    {
     "name": "stdout",
     "output_type": "stream",
     "text": [
      "Train Data Size:  (3500, 10650)\n",
      "Test Data Size:  (1500, 10650)\n"
     ]
    }
   ],
   "source": [
    "X_train,X_test,y_train,y_test = train_test_split(df1['CleanedText'].values,df1['Score'].values,test_size=0.3,shuffle=False) # splitting into test and train\n",
    "# we are not using random state because we've already split  based on time\n",
    "c_vector=CountVectorizer() # intialising bow vectorizer\n",
    "X_train=c_vector.fit_transform(X_train) # feature extraction of X_train\n",
    "X_train=preprocessing.normalize(X_train) # normalise data\n",
    "print(\"Train Data Size: \",X_train.shape)\n",
    "X_test=c_vector.transform(X_test) # feature extraction of X_test\n",
    "X_test=preprocessing.normalize(X_test) # normalise data\n",
    "print(\"Test Data Size: \",X_test.shape)"
   ]
  },
  {
   "cell_type": "markdown",
   "metadata": {},
   "source": [
    "we've successfully split data into 70:30 ratio between train and test datasets"
   ]
  },
  {
   "cell_type": "code",
   "execution_count": 10,
   "metadata": {},
   "outputs": [],
   "source": [
    "# FINDING BEST K VALUE WITHOUT BRUTE-FORCE OR KD-TREE\n",
    "from sklearn.model_selection import cross_validate\n",
    "from sklearn.model_selection import cross_val_score\n",
    "from sklearn.metrics import accuracy_score\n",
    "'''Now , it is required to perform cross-validation for getting the optimized k-value\n",
    "firstly, we would go through simple cross-validation on our dataset (cross-val on train data without split)'''\n",
    "# split the train data set into cross validation train and cross validation test\n",
    "X_tr,X_cv,y_tr,y_cv = train_test_split(X_train, y_train, test_size=0.3,shuffle=False)\n",
    "k_list=[]\n",
    "acc_list=[]\n",
    "for i in range(1,50,2):\n",
    "    # instantiate learning model (k = 30)\n",
    "    knn = KNeighborsClassifier(n_neighbors=i)\n",
    "    k_list.append(i)\n",
    "    # fitting the model on crossvalidation train\n",
    "    knn.fit(X_tr, y_tr)\n",
    "    # predict the response on the crossvalidation train\n",
    "    pred = knn.predict(X_cv)\n",
    "    # evaluate CV accuracy\n",
    "    acc = accuracy_score(y_cv, pred, normalize=True) * float(100)\n",
    "    acc_list.append(acc)\n",
    "knn = KNeighborsClassifier(1)\n",
    "knn.fit(X_tr,y_tr)\n",
    "pred = knn.predict(X_test)\n",
    "acc = accuracy_score(y_test, pred, normalize=True) * float(100)"
   ]
  },
  {
   "cell_type": "code",
   "execution_count": 11,
   "metadata": {},
   "outputs": [
    {
     "data": {
      "image/png": "[encoded data removed]",
      "text/plain": [
       "<Figure size 432x288 with 1 Axes>"
      ]
     },
     "metadata": {},
     "output_type": "display_data"
    },
    {
     "name": "stdout",
     "output_type": "stream",
     "text": [
      "minimum error 15.333333333333329 occurs at k = 9\n"
     ]
    }
   ],
   "source": [
    "err=[]\n",
    "for i in acc_list:\n",
    "  err.append(100-i)\n",
    "sns.set_style(\"darkgrid\")\n",
    "plt.plot(np.arange(1,50,2),err)\n",
    "plt.xlabel(\"K value\")\n",
    "plt.ylabel(\"error\")\n",
    "plt.title(\"cross-validation error\")\n",
    "plt.show()\n",
    "print(\"minimum error\",min(err),'occurs at k =',k_list[acc_list.index(max(acc_list))])\n"
   ]
  },
  {
   "cell_type": "markdown",
   "metadata": {},
   "source": [
    "# Brute-force function"
   ]
  },
  {
   "cell_type": "code",
   "execution_count": 12,
   "metadata": {},
   "outputs": [
    {
     "name": "stdout",
     "output_type": "stream",
     "text": [
      "optimal k : {'n_neighbors': 11}  with accuracy : 84.69982847341338\n",
      "\n",
      "list of accuracies : [79.7941681  83.87650086 84.21955403 84.63121784 84.59691252 84.69982847\n",
      " 84.69982847 84.5626072  84.63121784 84.52830189 84.45969125 84.49399657\n",
      " 84.45969125 84.42538593 84.42538593 84.42538593 84.42538593 84.42538593\n",
      " 84.42538593 84.42538593 84.42538593 84.42538593 84.42538593 84.42538593\n",
      " 84.42538593]\n"
     ]
    },
    {
     "data": {
      "image/png": "[encoded data removed]",
      "text/plain": [
       "<Figure size 432x288 with 1 Axes>"
      ]
     },
     "metadata": {},
     "output_type": "display_data"
    },
    {
     "name": "stdout",
     "output_type": "stream",
     "text": [
      "time taken: 22.339608192443848 seconds\n"
     ]
    }
   ],
   "source": [
    "from sklearn.model_selection import cross_validate\n",
    "from sklearn.model_selection import cross_val_score\n",
    "from sklearn.metrics import accuracy_score\n",
    "import time\n",
    "start_time = time.time()\n",
    "def func_bruteforce(XTRAIN,YTRAIN):\n",
    "    knn=KNeighborsClassifier(algorithm='brute')#since, we are using bruteforce algorithm\n",
    "    grid={'n_neighbors':np.arange(1,50,2)}#creating a dictionary with values as range of K-values\n",
    "    splits=TimeSeriesSplit(n_splits=5)#time series split of train data using 10-fold cross-validation\n",
    "    grid_search=GridSearchCV(estimator=knn,param_grid=grid,cv=splits,return_train_score=1,n_jobs=-1) #this actually performs grid search over our grid-values as cv value=10\n",
    "    grid_search.fit(XTRAIN,YTRAIN)\n",
    "#     print(grid_search.cv_results_['mean_test_score'])\n",
    "    return grid_search.best_params_,grid_search.best_score_*100,grid_search.cv_results_['mean_test_score']*100# best_params_ and best_score_ are attributes that returns best k-value and accuracy\n",
    "optimal_k,accuracy,acc_scores=func_bruteforce(X_train,y_train)\n",
    "print('optimal k :',optimal_k,' with accuracy :',accuracy)\n",
    "print('\\nlist of accuracies :',acc_scores)\n",
    "plt.plot(list(range(1,50,2)),acc_scores)\n",
    "plt.xlabel('Number of Neighbors K')\n",
    "plt.ylabel('Mean Accuracies')\n",
    "plt.show()\n",
    "print(\"time taken: %s seconds\" %(time.time()-start_time))"
   ]
  },
  {
   "cell_type": "markdown",
   "metadata": {},
   "source": [
    "## Test-accuracy function"
   ]
  },
  {
   "cell_type": "code",
   "execution_count": 13,
   "metadata": {},
   "outputs": [
    {
     "name": "stdout",
     "output_type": "stream",
     "text": [
      "\n",
      "The accuracy of the knn classifier for k = 11 is 83.733333%\n"
     ]
    }
   ],
   "source": [
    "# NOW, COMPUTE THE TEST-ACCURACY\n",
    "# instantiate learning model k = optimal_k\n",
    "def test_acc(optimal_k,XTRAIN,XTEST):\n",
    "  knn_optimal=KNeighborsClassifier(n_neighbors=optimal_k)\n",
    "  # fitting the model\n",
    "  knn_optimal.fit(XTRAIN, y_train)\n",
    "  # predict the response\n",
    "  pred=knn_optimal.predict(XTEST)\n",
    "  # evaluate accuracy\n",
    "  acc = accuracy_score(y_test, pred) * 100\n",
    "  return optimal_k,acc,pred\n",
    "optimal_k,acc,pred=test_acc(optimal_k['n_neighbors'],X_train,X_test)\n",
    "print('\\nThe accuracy of the knn classifier for k = %d is %f%%' % (optimal_k, acc))"
   ]
  },
  {
   "cell_type": "markdown",
   "metadata": {},
   "source": [
    "## confusion-matrix function"
   ]
  },
  {
   "cell_type": "code",
   "execution_count": 14,
   "metadata": {},
   "outputs": [
    {
     "name": "stdout",
     "output_type": "stream",
     "text": [
      "accuracy we got: 83.73333333333333\n",
      "precision value : 0.8379287155346334\n",
      "recall : 0.9975980784627703\n",
      "F1-SCORE : 0.9108187134502924\n",
      "     [TN       FP] \n",
      "      [FN      TP]\n"
     ]
    },
    {
     "data": {
      "image/png": "[encoded data removed]",
      "text/plain": [
       "<Figure size 432x288 with 2 Axes>"
      ]
     },
     "metadata": {},
     "output_type": "display_data"
    }
   ],
   "source": [
    "from sklearn.metrics import accuracy_score\n",
    "from sklearn.metrics import confusion_matrix\n",
    "from sklearn.metrics import precision_score\n",
    "from sklearn.metrics import f1_score\n",
    "from sklearn.metrics import recall_score\n",
    "from sklearn.preprocessing import LabelBinarizer\n",
    "def filter(y_test):\n",
    "  lst=[]\n",
    "  for x in y_test: # as confusion matrices need only no of positives(1) and negatives(0) in the form of binary digits, we convert lables to +1 or 0\n",
    "    if x=='positive':\n",
    "      lst.append(1)\n",
    "    else:\n",
    "      lst.append(0)\n",
    "  return lst\n",
    "def confuse_matrix(optimal_k,pred,y_test):\n",
    "    y_con_test=filter(y_test)\n",
    "    y_con_pred=filter(pred)\n",
    "    accuracy=accuracy_score(y_con_test,y_con_pred)*100\n",
    "    print('accuracy we got:' , accuracy)\n",
    "    precision=precision_score(y_con_test,y_con_pred)\n",
    "    print('precision value :', precision)\n",
    "    recall=recall_score(y_con_test,y_con_pred)\n",
    "    print('recall :',recall)\n",
    "    F1=f1_score(y_con_test,y_con_pred)\n",
    "    print('F1-SCORE :',F1)\n",
    "    conf=pd.DataFrame(confusion_matrix(y_con_test,y_con_pred), range(2),range(2))\n",
    "    sns.set(font_scale=1.4)#for label size\n",
    "    sns.heatmap(conf, annot=True,annot_kws={\"size\": 16}, fmt='g') # y-axis-actual,x-axis-predicted\n",
    "    print(\"     [TN       FP] \\n      [FN      TP]\")\n",
    "    return None \n",
    "confuse_matrix(optimal_k,pred,y_test)\n"
   ]
  },
  {
   "cell_type": "markdown",
   "metadata": {},
   "source": [
    "## truncated-svd function"
   ]
  },
  {
   "cell_type": "code",
   "execution_count": 15,
   "metadata": {},
   "outputs": [],
   "source": [
    "# for K-D tree, we should pass dence matrice to algorithm, hence, we use Truncated SVD\n",
    "def TSVD(XTRAIN,XTEST):\n",
    "  standardized_train = StandardScaler(with_mean=False).fit_transform(XTRAIN) # data standardization\n",
    "  standardized_test = StandardScaler(with_mean=False).fit_transform(XTEST)\n",
    "#   standardized_train.shape\n",
    "  tsvd_train = TruncatedSVD(n_components=400, random_state=None).fit_transform(standardized_train)\n",
    "#   tsvd_train.shape\n",
    "  tsvd_test = TruncatedSVD(n_components=400, random_state=None).fit_transform(standardized_test)\n",
    "#   tsvd_test.shape\n",
    "  return tsvd_train,tsvd_test\n",
    "# print(TSVD(X_train,X_test))"
   ]
  },
  {
   "cell_type": "markdown",
   "metadata": {},
   "source": [
    "## KD-Tree Function"
   ]
  },
  {
   "cell_type": "code",
   "execution_count": 16,
   "metadata": {},
   "outputs": [
    {
     "name": "stdout",
     "output_type": "stream",
     "text": [
      "optimal k : {'n_neighbors': 7}  with accuracy : 84.76843910806176\n",
      "\n",
      "list of accuracies : [80.24013722 83.87650086 84.69982847 84.76843911 84.52830189 84.63121784\n",
      " 84.5626072  84.45969125 84.45969125 84.45969125 84.45969125 84.45969125\n",
      " 84.45969125 84.45969125 84.45969125 84.42538593 84.42538593 84.42538593\n",
      " 84.42538593 84.42538593 84.42538593 84.42538593 84.42538593 84.42538593\n",
      " 84.42538593]\n"
     ]
    },
    {
     "data": {
      "image/png": "[encoded data removed]",
      "text/plain": [
       "<Figure size 432x288 with 1 Axes>"
      ]
     },
     "metadata": {},
     "output_type": "display_data"
    },
    {
     "name": "stdout",
     "output_type": "stream",
     "text": [
      "time taken: 350.0651557445526 seconds\n"
     ]
    }
   ],
   "source": [
    "start_time = time.time()\n",
    "def func_kdtree(XTRAIN,YTRAIN):\n",
    "    knn=KNeighborsClassifier(algorithm='kd_tree')#since, we are using bruteforce algorithm\n",
    "    grid={'n_neighbors':np.arange(1,50,2)}#creating a dictionary with values as range of K-values\n",
    "    splits=TimeSeriesSplit(n_splits=5)#time series split of train data using 10-fold cross-validation\n",
    "    grid_search=GridSearchCV(estimator=knn,param_grid=grid,cv=splits,return_train_score=1,n_jobs=-1) #this actually performs grid search over our grid-values as cv value=10\n",
    "    grid_search.fit(XTRAIN,YTRAIN)\n",
    "#     print(grid_search.cv_results_['mean_test_score'])\n",
    "    return grid_search.best_params_,grid_search.best_score_*100,grid_search.cv_results_['mean_test_score']*100# best_params_ and best_score_ are attributes that returns best k-value and accuracy\n",
    "train_svd,test_svd=TSVD(X_train,X_test) # passing our vectorized array to TSVD function\n",
    "optimal_k,accuracy,acc_scores=func_kdtree(train_svd,y_train)\n",
    "print('optimal k :',optimal_k,' with accuracy :',accuracy)\n",
    "print('\\nlist of accuracies :',acc_scores)\n",
    "plt.plot(list(range(1,50,2)),acc_scores)\n",
    "plt.xlabel('Number of Neighbors K')\n",
    "plt.ylabel('Mean Accuracies')\n",
    "plt.show()\n",
    "print(\"time taken: %s seconds\" %(time.time()-start_time))"
   ]
  },
  {
   "cell_type": "markdown",
   "metadata": {},
   "source": [
    "## test-accuracy(kd-tree)"
   ]
  },
  {
   "cell_type": "code",
   "execution_count": 17,
   "metadata": {},
   "outputs": [
    {
     "name": "stdout",
     "output_type": "stream",
     "text": [
      "\n",
      "The accuracy of the knn classifier for k = 7 is 82.933333%\n"
     ]
    }
   ],
   "source": [
    "optimal_k,acc,pred=test_acc(optimal_k['n_neighbors'],train_svd,test_svd)\n",
    "print('\\nThe accuracy of the knn classifier for k = %d is %f%%' % (optimal_k, acc))"
   ]
  },
  {
   "cell_type": "markdown",
   "metadata": {},
   "source": [
    "## confusion-matrix(kd-tree)"
   ]
  },
  {
   "cell_type": "code",
   "execution_count": 18,
   "metadata": {},
   "outputs": [
    {
     "name": "stdout",
     "output_type": "stream",
     "text": [
      "accuracy we got: 82.93333333333334\n",
      "precision value : 0.8329979879275654\n",
      "recall : 0.9943955164131305\n",
      "F1-SCORE : 0.9065693430656934\n",
      "     [TN       FP] \n",
      "      [FN      TP]\n",
      "None\n"
     ]
    },
    {
     "data": {
      "image/png": "[encoded data removed]",
      "text/plain": [
       "<Figure size 432x288 with 2 Axes>"
      ]
     },
     "metadata": {},
     "output_type": "display_data"
    }
   ],
   "source": [
    "print(confuse_matrix(optimal_k,pred,y_test))"
   ]
  },
  {
   "cell_type": "markdown",
   "metadata": {},
   "source": [
    "# TF-IDF Vectorization"
   ]
  },
  {
   "cell_type": "code",
   "execution_count": 19,
   "metadata": {},
   "outputs": [
    {
     "name": "stdout",
     "output_type": "stream",
     "text": [
      "Train Data Size:  (3500, 10650)\n",
      "Test Data Size: (1500, 10650)\n"
     ]
    }
   ],
   "source": [
    "X_train,X_test,y_train,y_test = train_test_split(df1['CleanedText'].values,df1['Score'].values,test_size=0.3,shuffle=False) #shuffle=false because we've done time-based split\n",
    "tfidf=TfidfVectorizer()# intializing vectorizer\n",
    "X_train=tfidf.fit_transform(X_train) # fitting our model to tfidf\n",
    "X_train=preprocessing.normalize(X_train) #Normalize Data\n",
    "print(\"Train Data Size: \",X_train.shape)\n",
    "X_test=tfidf.transform(X_test)\n",
    "X_test = preprocessing.normalize(X_test)#Normalize Data\n",
    "print(\"Test Data Size:\",X_test.shape)"
   ]
  },
  {
   "cell_type": "markdown",
   "metadata": {},
   "source": [
    "## Brute-Force(TF-IDF)"
   ]
  },
  {
   "cell_type": "code",
   "execution_count": 20,
   "metadata": {},
   "outputs": [
    {
     "name": "stdout",
     "output_type": "stream",
     "text": [
      "optimal k : {'n_neighbors': 9}  with accuracy : 84.69982847341338\n",
      "\n",
      "list of accuracies : [80.17152659 83.77358491 84.5626072  84.45969125 84.69982847 84.5626072\n",
      " 84.5626072  84.5626072  84.45969125 84.49399657 84.45969125 84.45969125\n",
      " 84.45969125 84.45969125 84.45969125 84.45969125 84.45969125 84.42538593\n",
      " 84.42538593 84.42538593 84.42538593 84.42538593 84.42538593 84.42538593\n",
      " 84.42538593]\n"
     ]
    },
    {
     "data": {
      "image/png": "[encoded data removed]",
      "text/plain": [
       "<Figure size 432x288 with 1 Axes>"
      ]
     },
     "metadata": {},
     "output_type": "display_data"
    },
    {
     "name": "stdout",
     "output_type": "stream",
     "text": [
      "time taken: 21.356317281723022 seconds\n"
     ]
    }
   ],
   "source": [
    "start_time = time.time()\n",
    "optimal_k,accuracy,acc_scores=func_bruteforce(X_train,y_train)\n",
    "print('optimal k :',optimal_k,' with accuracy :',accuracy)\n",
    "print('\\nlist of accuracies :',acc_scores)\n",
    "plt.plot(list(range(1,50,2)),acc_scores)\n",
    "plt.xlabel('Number of Neighbors K')\n",
    "plt.ylabel('Mean Accuracies')\n",
    "plt.show()\n",
    "print(\"time taken: %s seconds\" %(time.time()-start_time))"
   ]
  },
  {
   "cell_type": "markdown",
   "metadata": {},
   "source": [
    "## Test-accuracy on tf-idf"
   ]
  },
  {
   "cell_type": "code",
   "execution_count": 21,
   "metadata": {},
   "outputs": [
    {
     "name": "stdout",
     "output_type": "stream",
     "text": [
      "\n",
      "The accuracy of the knn classifier for k = 9 is 83.933333%\n"
     ]
    }
   ],
   "source": [
    "optimal_k,acc,pred=test_acc(optimal_k['n_neighbors'],X_train,X_test)\n",
    "print('\\nThe accuracy of the knn classifier for k = %d is %f%%' % (optimal_k, acc))"
   ]
  },
  {
   "cell_type": "markdown",
   "metadata": {},
   "source": [
    "## confusion matrix on tf-idf (brute)"
   ]
  },
  {
   "cell_type": "code",
   "execution_count": 22,
   "metadata": {},
   "outputs": [
    {
     "name": "stdout",
     "output_type": "stream",
     "text": [
      "accuracy we got: 83.93333333333334\n",
      "precision value : 0.839622641509434\n",
      "recall : 0.9975980784627703\n",
      "F1-SCORE : 0.9118185144529821\n",
      "     [TN       FP] \n",
      "      [FN      TP]\n",
      "None\n"
     ]
    },
    {
     "data": {
      "image/png": "[encoded data removed]",
      "text/plain": [
       "<Figure size 432x288 with 2 Axes>"
      ]
     },
     "metadata": {},
     "output_type": "display_data"
    }
   ],
   "source": [
    "print(confuse_matrix(optimal_k,pred,y_test))"
   ]
  },
  {
   "cell_type": "markdown",
   "metadata": {},
   "source": [
    "## KD-Tree on tf-idf"
   ]
  },
  {
   "cell_type": "code",
   "execution_count": 23,
   "metadata": {},
   "outputs": [
    {
     "name": "stdout",
     "output_type": "stream",
     "text": [
      "optimal k : {'n_neighbors': 5}  with accuracy : 84.6655231560892\n",
      "\n",
      "list of accuracies : [80.92624357 84.08233276 84.66552316 84.5626072  84.52830189 84.59691252\n",
      " 84.52830189 84.49399657 84.49399657 84.45969125 84.49399657 84.45969125\n",
      " 84.45969125 84.45969125 84.45969125 84.45969125 84.45969125 84.42538593\n",
      " 84.42538593 84.42538593 84.42538593 84.42538593 84.42538593 84.42538593\n",
      " 84.42538593]\n"
     ]
    },
    {
     "data": {
      "image/png": "[encoded data removed]",
      "text/plain": [
       "<Figure size 432x288 with 1 Axes>"
      ]
     },
     "metadata": {},
     "output_type": "display_data"
    },
    {
     "name": "stdout",
     "output_type": "stream",
     "text": [
      "time taken: 348.4332015514374 seconds\n"
     ]
    }
   ],
   "source": [
    "start_time = time.time()\n",
    "train_svd,test_svd=TSVD(X_train,X_test) # passing our vectorized array to TSVD function\n",
    "optimal_k,accuracy,acc_scores=func_kdtree(train_svd,y_train)\n",
    "print('optimal k :',optimal_k,' with accuracy :',accuracy)\n",
    "print('\\nlist of accuracies :',acc_scores)\n",
    "plt.plot(list(range(1,50,2)),acc_scores)\n",
    "plt.xlabel('Number of Neighbors K')\n",
    "plt.ylabel('Mean Accuracies')\n",
    "plt.show()\n",
    "print(\"time taken: %s seconds\" %(time.time()-start_time))"
   ]
  },
  {
   "cell_type": "markdown",
   "metadata": {},
   "source": [
    "## test-acc on tf-idf(kd-tree)"
   ]
  },
  {
   "cell_type": "code",
   "execution_count": 24,
   "metadata": {},
   "outputs": [
    {
     "name": "stdout",
     "output_type": "stream",
     "text": [
      "\n",
      "The accuracy of the knn classifier for k = 5 is 82.666667%\n"
     ]
    }
   ],
   "source": [
    "optimal_k,acc,pred=test_acc(optimal_k['n_neighbors'],train_svd,test_svd)\n",
    "print('\\nThe accuracy of the knn classifier for k = %d is %f%%' % (optimal_k, acc))"
   ]
  },
  {
   "cell_type": "markdown",
   "metadata": {},
   "source": [
    "## confusion-matrix on tf-idf(kd-tree)"
   ]
  },
  {
   "cell_type": "code",
   "execution_count": 25,
   "metadata": {},
   "outputs": [
    {
     "name": "stdout",
     "output_type": "stream",
     "text": [
      "accuracy we got: 82.66666666666667\n",
      "precision value : 0.8338960162052668\n",
      "recall : 0.988791032826261\n",
      "F1-SCORE : 0.9047619047619048\n",
      "     [TN       FP] \n",
      "      [FN      TP]\n",
      "None\n"
     ]
    },
    {
     "data": {
      "image/png": "[encoded data removed]",
      "text/plain": [
       "<Figure size 432x288 with 2 Axes>"
      ]
     },
     "metadata": {},
     "output_type": "display_data"
    }
   ],
   "source": [
    "print(confuse_matrix(optimal_k,pred,y_test))"
   ]
  },
  {
   "cell_type": "markdown",
   "metadata": {},
   "source": [
    "## Word-2-Vector Model"
   ]
  },
  {
   "cell_type": "code",
   "execution_count": 26,
   "metadata": {},
   "outputs": [],
   "source": [
    "# Train your own Word2Vec model using your own text corpus\n",
    "i=0\n",
    "list_of_sent=[] # list used to store the words seperated with commas for building our w2vec model \n",
    "for sent in df1['CleanedText'].values:\n",
    "    list_of_sent.append(sent.split())# split acc. to space (default split)"
   ]
  },
  {
   "cell_type": "code",
   "execution_count": 27,
   "metadata": {},
   "outputs": [
    {
     "name": "stdout",
     "output_type": "stream",
     "text": [
      "night big fan cartoon shown decid watch also tri see winona ryder movi know well known fact like see danc end movi hey funni apart hilari film like much thing wrong short mayb special efect bit hey older\n",
      "*****************************************************************\n",
      "['night', 'big', 'fan', 'cartoon', 'shown', 'decid', 'watch', 'also', 'tri', 'see', 'winona', 'ryder', 'movi', 'know', 'well', 'known', 'fact', 'like', 'see', 'danc', 'end', 'movi', 'hey', 'funni', 'apart', 'hilari', 'film', 'like', 'much', 'thing', 'wrong', 'short', 'mayb', 'special', 'efect', 'bit', 'hey', 'older']\n"
     ]
    }
   ],
   "source": [
    "print(df1['CleanedText'].values[0]) # actual text contained in cleaned text\n",
    "print(\"*****************************************************************\")\n",
    "print(list_of_sent[0]) # seperated words"
   ]
  },
  {
   "cell_type": "code",
   "execution_count": 28,
   "metadata": {},
   "outputs": [],
   "source": [
    "# min_count = 1 considers all the words\n",
    "w2v_model=Word2Vec(list_of_sent,min_count=1,size=300, workers=4)"
   ]
  },
  {
   "cell_type": "code",
   "execution_count": 29,
   "metadata": {},
   "outputs": [],
   "source": [
    "w2v_words = list(w2v_model.wv.vocab)\n",
    "# print(\"number of words that occured minimum 1 time \",len(w2v_words))\n",
    "# # print(\"sample words \", w2v_words[0:NumOfWords])\n"
   ]
  },
  {
   "cell_type": "code",
   "execution_count": 30,
   "metadata": {},
   "outputs": [
    {
     "data": {
      "text/plain": [
       "[('away', 0.9998213052749634),\n",
       " ('special', 0.9997816681861877),\n",
       " ('sure', 0.9997462034225464),\n",
       " ('plan', 0.9997340440750122),\n",
       " ('probabl', 0.999731183052063),\n",
       " ('offic', 0.9997212290763855),\n",
       " ('sardin', 0.9997199773788452),\n",
       " ('experi', 0.9997192621231079),\n",
       " ('given', 0.9997184872627258),\n",
       " ('trap', 0.9997171759605408)]"
      ]
     },
     "execution_count": 30,
     "metadata": {},
     "output_type": "execute_result"
    }
   ],
   "source": [
    "w2v_model.wv.most_similar('friend')"
   ]
  },
  {
   "cell_type": "code",
   "execution_count": 31,
   "metadata": {},
   "outputs": [
    {
     "data": {
      "text/plain": [
       "[('add', 0.9994142055511475),\n",
       " ('coconut', 0.999239981174469),\n",
       " ('hot', 0.9991186857223511),\n",
       " ('ad', 0.998521089553833),\n",
       " ('bitter', 0.9979516267776489),\n",
       " ('mix', 0.9979391694068909),\n",
       " ('dark', 0.9978399276733398),\n",
       " ('sugar', 0.9977403879165649),\n",
       " ('strong', 0.9967581033706665),\n",
       " ('ice', 0.9966917037963867)]"
      ]
     },
     "execution_count": 31,
     "metadata": {},
     "output_type": "execute_result"
    }
   ],
   "source": [
    "w2v_model.wv.most_similar('milk')"
   ]
  },
  {
   "cell_type": "markdown",
   "metadata": {},
   "source": [
    "## Avg- word 2 vector"
   ]
  },
  {
   "cell_type": "code",
   "execution_count": 32,
   "metadata": {},
   "outputs": [
    {
     "name": "stdout",
     "output_type": "stream",
     "text": [
      "5000\n",
      "300\n",
      "[-0.01164844 -0.16398207 -0.1598202  -0.20830556  0.1930184  -0.00523259\n",
      "  0.12709514  0.1379925   0.31362519 -0.12860666 -0.12486024  0.11189036\n",
      " -0.19413995 -0.14901359  0.00896853 -0.05037179 -0.11900527  0.03789675\n",
      " -0.08068039  0.30614107  0.33141025  0.1074885  -0.14101324  0.032429\n",
      "  0.21435868  0.07603103  0.31960051 -0.01160748  0.01687335  0.13656699\n",
      "  0.06671033  0.06207677  0.16056856 -0.08613736  0.2423953   0.0169799\n",
      "  0.28325437  0.02052751 -0.16824489 -0.06350347 -0.00683602  0.28731411\n",
      "  0.06820311  0.1762026  -0.00340028  0.1096158   0.12631391 -0.17586311\n",
      "  0.30316582 -0.16262445 -0.00711274  0.18104894 -0.20172886 -0.38927122\n",
      "  0.21718782 -0.02526711  0.04045336 -0.29768907  0.02897178  0.03854182\n",
      "  0.40598411  0.09192314  0.24544751  0.32983695 -0.01685455 -0.04935611\n",
      "  0.00132356 -0.24400696  0.03461177 -0.27146973  0.20008281 -0.14294173\n",
      " -0.03765911  0.00714741  0.00833894  0.07264583  0.00798375  0.03662911\n",
      " -0.0110697  -0.10806979  0.07848909  0.10159594 -0.34940116  0.26006845\n",
      " -0.07386274  0.13974425 -0.00866134 -0.05865972 -0.02103276 -0.00301911\n",
      "  0.01385339 -0.14276742 -0.08659495 -0.04270958  0.23170534  0.07741351\n",
      "  0.05222722 -0.19070475  0.18224015 -0.07949573  0.36034243  0.00155192\n",
      "  0.00830711 -0.14419432 -0.05177989 -0.12778855 -0.10901433  0.18364578\n",
      "  0.05057086 -0.13506567 -0.21614412 -0.28822348 -0.11845554  0.14554334\n",
      "  0.04860891 -0.16780589 -0.04104192 -0.04644938 -0.18320662 -0.25848072\n",
      "  0.07599313 -0.10301752  0.14396914 -0.2149244   0.06868274  0.28940474\n",
      "  0.02876104 -0.18202684 -0.02380706  0.06590119  0.0938291  -0.0446062\n",
      "  0.18656738  0.37455977  0.19908624 -0.15168581  0.10127564 -0.1817282\n",
      "  0.00514612 -0.170241   -0.06648799 -0.2349549  -0.03528513 -0.14385264\n",
      " -0.28933547  0.18944508  0.05109583 -0.20412021 -0.00804618  0.01080682\n",
      " -0.25059177  0.23617235  0.19567608 -0.37867181  0.15982852  0.08623538\n",
      " -0.19596971  0.07748037  0.11503273  0.05292407  0.10599103  0.10117855\n",
      " -0.09859948  0.08470739  0.09460978  0.32814257 -0.05210048 -0.24181528\n",
      " -0.23487202  0.11476227  0.15061621 -0.18705424  0.08762189  0.17893813\n",
      "  0.02946271 -0.04831937  0.20117948  0.17530106  0.10373197 -0.03205493\n",
      "  0.06611548 -0.00960309 -0.09490015  0.15123264 -0.21414927  0.14745754\n",
      "  0.04951481 -0.05316664 -0.11658236  0.23171285 -0.01026776  0.3486508\n",
      "  0.01565099  0.06060475  0.23756456  0.11461154 -0.20055038 -0.27191999\n",
      "  0.15725437 -0.23014316 -0.20362457  0.09232868 -0.24040721 -0.03563088\n",
      " -0.00355863  0.33249253  0.09047104 -0.01805996 -0.14880588 -0.12776537\n",
      " -0.34148613  0.08886645 -0.25846928  0.26399506 -0.09887185  0.093373\n",
      "  0.09862953  0.49247571  0.13216332  0.27079449 -0.0760092   0.01815752\n",
      "  0.04323808 -0.32273575  0.02779741 -0.09735397 -0.18735652  0.17102059\n",
      " -0.08231306  0.06877979  0.34730217 -0.17193846  0.14805185  0.14608719\n",
      " -0.26245513  0.40121633 -0.14494346  0.11200341 -0.23264397  0.20673764\n",
      " -0.02229906  0.2180251  -0.11826002  0.02305463  0.43900355  0.19570877\n",
      "  0.40081416 -0.22487193  0.29947373  0.09516151 -0.01459126  0.04712402\n",
      "  0.5499556   0.12535784 -0.05457577  0.1957064  -0.03101439 -0.04273791\n",
      " -0.25045779 -0.23135917  0.45719389 -0.16452721  0.03729769  0.21248902\n",
      "  0.04346795  0.31566773 -0.06288796 -0.2338725  -0.20585889  0.16074302\n",
      "  0.2764035   0.12315805 -0.02243407 -0.01451979  0.05088301  0.38277082\n",
      "  0.0036519   0.01732661 -0.12970312 -0.02524693  0.09920473  0.05906569\n",
      "  0.19291627  0.32661416  0.29847595 -0.12735559 -0.16375066 -0.28276342\n",
      "  0.16382955  0.02126821  0.14005213  0.22682169  0.21535663  0.00441957\n",
      "  0.23248557 -0.1285177   0.11835978 -0.04353898  0.01795444  0.06512267]\n"
     ]
    }
   ],
   "source": [
    "# average Word2Vec\n",
    "# compute average word2vec for each review.\n",
    "final_list=[]; # list which stores avg-w2v for each review\n",
    "for sent in list_of_sent: # iterating through each review\n",
    "    sent_vec = np.zeros(300) # intializing an array to 300 dimensions to store all avg-w2vec in document\n",
    "    count=0; # num of words with a valid vector in the sentence/review\n",
    "    for word in sent: # for each word in a review/sentence\n",
    "        if word in w2v_words: \n",
    "            vec = w2v_model.wv[word] # converting word to vector at this instance\n",
    "            sent_vec+= vec # adding each vector upto our length of document\n",
    "            count+=1 # increment-word count\n",
    "    if count!=0: # base condition that satisfies for each document(min count of words >=1)\n",
    "        sent_vec/=count  #avg of all word-vectors\n",
    "    final_list.append(sent_vec) # appending avg-w2v to our list\n",
    "print(len(final_list))\n",
    "print(len(final_list[0]))\n",
    "print(final_list[0])"
   ]
  },
  {
   "cell_type": "code",
   "execution_count": 33,
   "metadata": {},
   "outputs": [
    {
     "data": {
      "text/plain": [
       "False"
      ]
     },
     "execution_count": 33,
     "metadata": {},
     "output_type": "execute_result"
    }
   ],
   "source": [
    "np.isnan(final_list).any() # checking if any undefined values(NaN) present in our data"
   ]
  },
  {
   "cell_type": "code",
   "execution_count": 34,
   "metadata": {},
   "outputs": [],
   "source": [
    "# final_list_norm=preprocessing.normalize(final_list)\n",
    "X_train,X_test,y_train,y_test=train_test_split(final_list,df1['Score'].values,test_size=0.3,shuffle=False)\n",
    "# time basis split, hence, shuffle =false\n",
    "#X_train[0]\n",
    "final_list=np.asarray(final_list)"
   ]
  },
  {
   "cell_type": "markdown",
   "metadata": {},
   "source": [
    "## brute-force on avg- w2 vec"
   ]
  },
  {
   "cell_type": "code",
   "execution_count": 35,
   "metadata": {},
   "outputs": [
    {
     "name": "stdout",
     "output_type": "stream",
     "text": [
      "optimal k : {'n_neighbors': 17}  with accuracy : 84.4253859348199\n",
      "\n",
      "list of accuracies : [76.432247   81.23499142 83.25900515 83.97941681 84.21955403 84.28816467\n",
      " 84.28816467 84.39108062 84.42538593 84.39108062 84.3567753  84.39108062\n",
      " 84.39108062 84.42538593 84.42538593 84.42538593 84.42538593 84.42538593\n",
      " 84.42538593 84.42538593 84.42538593 84.42538593 84.42538593 84.42538593\n",
      " 84.42538593]\n"
     ]
    },
    {
     "data": {
      "image/png": "[encoded data removed]",
      "text/plain": [
       "<Figure size 432x288 with 1 Axes>"
      ]
     },
     "metadata": {},
     "output_type": "display_data"
    },
    {
     "name": "stdout",
     "output_type": "stream",
     "text": [
      "time taken: 40.699716567993164 seconds\n"
     ]
    }
   ],
   "source": [
    "start_time = time.time()\n",
    "optimal_k,accuracy,acc_scores=func_bruteforce(X_train,y_train)\n",
    "print('optimal k :',optimal_k,' with accuracy :',accuracy)\n",
    "print('\\nlist of accuracies :',acc_scores)\n",
    "plt.plot(list(range(1,50,2)),acc_scores)\n",
    "plt.xlabel('Number of Neighbors K')\n",
    "plt.ylabel('Mean Accuracies')\n",
    "plt.show()\n",
    "print(\"time taken: %s seconds\" %(time.time()-start_time))"
   ]
  },
  {
   "cell_type": "markdown",
   "metadata": {},
   "source": [
    "## test-accuracy on avg-w2v(brute)"
   ]
  },
  {
   "cell_type": "code",
   "execution_count": 36,
   "metadata": {},
   "outputs": [
    {
     "name": "stdout",
     "output_type": "stream",
     "text": [
      "\n",
      "The accuracy of the knn classifier for k = 17 is 83.266667%\n"
     ]
    }
   ],
   "source": [
    "optimal_k,acc,pred=test_acc(optimal_k['n_neighbors'],X_train,X_test)\n",
    "print('\\nThe accuracy of the knn classifier for k = %d is %f%%' % (optimal_k, acc))"
   ]
  },
  {
   "cell_type": "markdown",
   "metadata": {},
   "source": [
    "## confusion-matrix on avg-w2v(brute)"
   ]
  },
  {
   "cell_type": "code",
   "execution_count": 37,
   "metadata": {},
   "outputs": [
    {
     "name": "stdout",
     "output_type": "stream",
     "text": [
      "accuracy we got: 83.26666666666667\n",
      "precision value : 0.8326666666666667\n",
      "recall : 1.0\n",
      "F1-SCORE : 0.9086940705711167\n",
      "     [TN       FP] \n",
      "      [FN      TP]\n",
      "None\n"
     ]
    },
    {
     "data": {
      "image/png": "[encoded data removed]",
      "text/plain": [
       "<Figure size 432x288 with 2 Axes>"
      ]
     },
     "metadata": {},
     "output_type": "display_data"
    }
   ],
   "source": [
    "print(confuse_matrix(optimal_k,pred,y_test))"
   ]
  },
  {
   "cell_type": "markdown",
   "metadata": {},
   "source": [
    "## K-D tree on avg-w2vec"
   ]
  },
  {
   "cell_type": "code",
   "execution_count": 38,
   "metadata": {},
   "outputs": [
    {
     "name": "stdout",
     "output_type": "stream",
     "text": [
      "optimal k : {'n_neighbors': 17}  with accuracy : 84.4253859348199\n",
      "\n",
      "list of accuracies : [76.432247   81.23499142 83.25900515 83.97941681 84.21955403 84.28816467\n",
      " 84.28816467 84.39108062 84.42538593 84.39108062 84.3567753  84.39108062\n",
      " 84.39108062 84.42538593 84.42538593 84.42538593 84.42538593 84.42538593\n",
      " 84.42538593 84.42538593 84.42538593 84.42538593 84.42538593 84.42538593\n",
      " 84.42538593]\n"
     ]
    },
    {
     "data": {
      "image/png": "[encoded data removed]",
      "text/plain": [
       "<Figure size 432x288 with 1 Axes>"
      ]
     },
     "metadata": {},
     "output_type": "display_data"
    },
    {
     "name": "stdout",
     "output_type": "stream",
     "text": [
      "time taken: 70.69144010543823 seconds\n"
     ]
    }
   ],
   "source": [
    "start_time = time.time()\n",
    "# AS AVG-W2V IS dense matrix , we no need to apply truncated SVD on this model\n",
    "optimal_k,accuracy,acc_scores=func_kdtree(X_train,y_train)\n",
    "print('optimal k :',optimal_k,' with accuracy :',accuracy)\n",
    "print('\\nlist of accuracies :',acc_scores)\n",
    "plt.plot(list(range(1,50,2)),acc_scores)\n",
    "plt.xlabel('Number of Neighbors K')\n",
    "plt.ylabel('Mean Accuracies')\n",
    "plt.show()\n",
    "print(\"time taken: %s seconds\" %(time.time()-start_time))"
   ]
  },
  {
   "cell_type": "markdown",
   "metadata": {},
   "source": [
    "## test-acc on avg w2v(KD)"
   ]
  },
  {
   "cell_type": "code",
   "execution_count": 39,
   "metadata": {},
   "outputs": [
    {
     "name": "stdout",
     "output_type": "stream",
     "text": [
      "\n",
      "The accuracy of the knn classifier for k = 17 is 83.266667%\n"
     ]
    }
   ],
   "source": [
    "optimal_k,acc,pred=test_acc(optimal_k['n_neighbors'],X_train,X_test)\n",
    "print('\\nThe accuracy of the knn classifier for k = %d is %f%%' % (optimal_k, acc))"
   ]
  },
  {
   "cell_type": "markdown",
   "metadata": {},
   "source": [
    "## confusion-matrix on avg-w2v(KD-TREE)"
   ]
  },
  {
   "cell_type": "code",
   "execution_count": 40,
   "metadata": {},
   "outputs": [
    {
     "name": "stdout",
     "output_type": "stream",
     "text": [
      "accuracy we got: 83.26666666666667\n",
      "precision value : 0.8326666666666667\n",
      "recall : 1.0\n",
      "F1-SCORE : 0.9086940705711167\n",
      "     [TN       FP] \n",
      "      [FN      TP]\n",
      "None\n"
     ]
    },
    {
     "data": {
      "image/png": "[encoded data removed]",
      "text/plain": [
       "<Figure size 432x288 with 2 Axes>"
      ]
     },
     "metadata": {},
     "output_type": "display_data"
    }
   ],
   "source": [
    "print(confuse_matrix(optimal_k,pred,y_test))"
   ]
  },
  {
   "cell_type": "markdown",
   "metadata": {},
   "source": [
    "# TF-IDF WEIGHTED W2VEC"
   ]
  },
  {
   "cell_type": "markdown",
   "metadata": {},
   "source": [
    "Take weighted sum of the vectors divided by the sum of all the tfidf's\n",
    "------------->(tfidf(word) x w2v(word))/sum(tfidf's)\n",
    "\n",
    "----------->another type of vectorization technique to convert sentence into vector notation"
   ]
  },
  {
   "cell_type": "code",
   "execution_count": 41,
   "metadata": {},
   "outputs": [
    {
     "name": "stdout",
     "output_type": "stream",
     "text": [
      "(5000, 13166)\n"
     ]
    }
   ],
   "source": [
    "# X_train,X_test,y_train,y_test=train_test_split(df1['CleanedText'],df1['Score'].values,test_size=0.3,shuffle=False)\n",
    "final_tf_idf=tfidf.fit_transform(df1['CleanedText'].values)\n",
    "print(final_tf_idf.shape)# final_tf_idf is the sparse matrix with row= sentence, col=word and cell_val = tfidf\n",
    "# TF-IDF weighted Word2Vec\n",
    "features= tfidf.get_feature_names() # tfidf words/col-names\n",
    "tfidf_final_list=[]; # the tfidf-w2v for each sentence/review is stored in this list\n",
    "rows=0;\n",
    "for sent in list_of_sent: # for each review/sentence \n",
    "    sent_vec=np.zeros(300) # intializing an array to 300 dimensions to store all tf-idf-w2vec in document\n",
    "    weight_sum=0; # num of words with a valid vector in the sentence/review\n",
    "    for word in sent: # iterating through each review\n",
    "        if word in w2v_words:\n",
    "            vec=w2v_model.wv[word] # converting word to vector at this instance\n",
    "            tf_idf=final_tf_idf[rows,features.index(word)] # obtain the tf_idfidf of a word in a sentence/review\n",
    "            sent_vec+=(vec*tf_idf) #multiplying tf-idf value of word with w2v vector of that word\n",
    "            weight_sum+=tf_idf # summating tf_idf value of every word\n",
    "    if weight_sum!= 0: # base condition that satisfies for each document(min weighted sum >=1)\n",
    "        sent_vec/= weight_sum # for each document ,this step converts sentence to tf-idf-w2v format by dividing TF-IDF sentence vectors with sum of all tf-idf's\n",
    "    tfidf_final_list.append(sent_vec)\n",
    "    rows+=1"
   ]
  },
  {
   "cell_type": "code",
   "execution_count": 42,
   "metadata": {},
   "outputs": [
    {
     "data": {
      "text/plain": [
       "scipy.sparse.csr.csr_matrix"
      ]
     },
     "execution_count": 42,
     "metadata": {},
     "output_type": "execute_result"
    }
   ],
   "source": [
    "type(final_tf_idf) # "
   ]
  },
  {
   "cell_type": "code",
   "execution_count": 43,
   "metadata": {},
   "outputs": [
    {
     "data": {
      "text/plain": [
       "(5000, 300)"
      ]
     },
     "execution_count": 43,
     "metadata": {},
     "output_type": "execute_result"
    }
   ],
   "source": [
    "tfidf_final_list=np.asarray(tfidf_final_list)\n",
    "X_train, X_test, y_train, y_test=train_test_split(tfidf_final_list,df1['Score'].values,test_size=0.3,shuffle=False)\n",
    "tfidf_final_list.shape"
   ]
  },
  {
   "cell_type": "code",
   "execution_count": 44,
   "metadata": {},
   "outputs": [
    {
     "data": {
      "text/plain": [
       "False"
      ]
     },
     "execution_count": 44,
     "metadata": {},
     "output_type": "execute_result"
    }
   ],
   "source": [
    "np.isnan(tfidf_final_list).any() # checking if any undefined values(NaN) present in our data"
   ]
  },
  {
   "cell_type": "markdown",
   "metadata": {},
   "source": [
    "## brute-force on TF-IDF w2v "
   ]
  },
  {
   "cell_type": "code",
   "execution_count": 45,
   "metadata": {},
   "outputs": [
    {
     "name": "stdout",
     "output_type": "stream",
     "text": [
      "optimal k : {'n_neighbors': 15}  with accuracy : 84.4253859348199\n",
      "\n",
      "list of accuracies : [77.11835334 81.09777015 83.3619211  83.97941681 84.3567753  84.28816467\n",
      " 84.3567753  84.42538593 84.42538593 84.39108062 84.42538593 84.42538593\n",
      " 84.42538593 84.42538593 84.42538593 84.42538593 84.42538593 84.42538593\n",
      " 84.42538593 84.42538593 84.42538593 84.42538593 84.42538593 84.42538593\n",
      " 84.42538593]\n"
     ]
    },
    {
     "data": {
      "image/png": "[encoded data removed]",
      "text/plain": [
       "<Figure size 432x288 with 1 Axes>"
      ]
     },
     "metadata": {},
     "output_type": "display_data"
    },
    {
     "name": "stdout",
     "output_type": "stream",
     "text": [
      "time taken: 26.69974637031555 seconds\n"
     ]
    }
   ],
   "source": [
    "start_time = time.time()\n",
    "optimal_k,accuracy,acc_scores=func_bruteforce(X_train,y_train)\n",
    "print('optimal k :',optimal_k,' with accuracy :',accuracy)\n",
    "print('\\nlist of accuracies :',acc_scores)\n",
    "plt.plot(list(range(1,50,2)),acc_scores)\n",
    "plt.xlabel('Number of Neighbors K')\n",
    "plt.ylabel('Mean Accuracies')\n",
    "plt.show()\n",
    "print(\"time taken: %s seconds\" %(time.time()-start_time))"
   ]
  },
  {
   "cell_type": "markdown",
   "metadata": {},
   "source": [
    "## Test-acc on tf-idf w2v (brute)"
   ]
  },
  {
   "cell_type": "code",
   "execution_count": 46,
   "metadata": {},
   "outputs": [
    {
     "name": "stdout",
     "output_type": "stream",
     "text": [
      "\n",
      "The accuracy of the knn classifier for k = 15 is 83.066667%\n"
     ]
    }
   ],
   "source": [
    "optimal_k,acc,pred=test_acc(optimal_k['n_neighbors'],X_train,X_test)\n",
    "print('\\nThe accuracy of the knn classifier for k = %d is %f%%' % (optimal_k, acc))"
   ]
  },
  {
   "cell_type": "markdown",
   "metadata": {},
   "source": [
    "## confusion matrix on tf-idf w2v(brute)"
   ]
  },
  {
   "cell_type": "code",
   "execution_count": 47,
   "metadata": {},
   "outputs": [
    {
     "name": "stdout",
     "output_type": "stream",
     "text": [
      "accuracy we got: 83.06666666666666\n",
      "precision value : 0.8323313293253173\n",
      "recall : 0.9975980784627703\n",
      "F1-SCORE : 0.9075018208302986\n",
      "     [TN       FP] \n",
      "      [FN      TP]\n",
      "None\n"
     ]
    },
    {
     "data": {
      "image/png": "[encoded data removed]",
      "text/plain": [
       "<Figure size 432x288 with 2 Axes>"
      ]
     },
     "metadata": {},
     "output_type": "display_data"
    }
   ],
   "source": [
    "print(confuse_matrix(optimal_k,pred,y_test))"
   ]
  },
  {
   "cell_type": "markdown",
   "metadata": {},
   "source": [
    "## kd-tree on tf-idf w2v (brute)"
   ]
  },
  {
   "cell_type": "code",
   "execution_count": 48,
   "metadata": {},
   "outputs": [
    {
     "name": "stdout",
     "output_type": "stream",
     "text": [
      "optimal k : {'n_neighbors': 15}  with accuracy : 84.4253859348199\n",
      "\n",
      "list of accuracies : [77.11835334 81.09777015 83.3619211  83.97941681 84.3567753  84.28816467\n",
      " 84.3567753  84.42538593 84.42538593 84.39108062 84.42538593 84.42538593\n",
      " 84.42538593 84.42538593 84.42538593 84.42538593 84.42538593 84.42538593\n",
      " 84.42538593 84.42538593 84.42538593 84.42538593 84.42538593 84.42538593\n",
      " 84.42538593]\n"
     ]
    },
    {
     "data": {
      "image/png": "[encoded data removed]",
      "text/plain": [
       "<Figure size 432x288 with 1 Axes>"
      ]
     },
     "metadata": {},
     "output_type": "display_data"
    },
    {
     "name": "stdout",
     "output_type": "stream",
     "text": [
      "time taken: 52.86696982383728 seconds\n"
     ]
    }
   ],
   "source": [
    "start_time = time.time()\n",
    "# AS tf-idf w2v IS dense matrix , we no need to apply truncated SVD on this model\n",
    "optimal_k,accuracy,acc_scores=func_kdtree(X_train,y_train)\n",
    "print('optimal k :',optimal_k,' with accuracy :',accuracy)\n",
    "print('\\nlist of accuracies :',acc_scores)\n",
    "plt.plot(list(range(1,50,2)),acc_scores)\n",
    "plt.xlabel('Number of Neighbors K')\n",
    "plt.ylabel('Mean Accuracies')\n",
    "plt.show()\n",
    "print(\"time taken: %s seconds\" %(time.time()-start_time))"
   ]
  },
  {
   "cell_type": "markdown",
   "metadata": {},
   "source": [
    "## test-acc on tfidf w2v (kd-tree)"
   ]
  },
  {
   "cell_type": "code",
   "execution_count": 49,
   "metadata": {},
   "outputs": [
    {
     "name": "stdout",
     "output_type": "stream",
     "text": [
      "\n",
      "The accuracy of the knn classifier for k = 15 is 83.066667%\n"
     ]
    }
   ],
   "source": [
    "optimal_k,acc,pred=test_acc(optimal_k['n_neighbors'],X_train,X_test)\n",
    "print('\\nThe accuracy of the knn classifier for k = %d is %f%%' % (optimal_k, acc))"
   ]
  },
  {
   "cell_type": "markdown",
   "metadata": {},
   "source": [
    "## confusion-matrix on tfidf-w2v (kd-tree)"
   ]
  },
  {
   "cell_type": "code",
   "execution_count": 50,
   "metadata": {},
   "outputs": [
    {
     "name": "stdout",
     "output_type": "stream",
     "text": [
      "accuracy we got: 83.06666666666666\n",
      "precision value : 0.8323313293253173\n",
      "recall : 0.9975980784627703\n",
      "F1-SCORE : 0.9075018208302986\n",
      "     [TN       FP] \n",
      "      [FN      TP]\n",
      "None\n"
     ]
    },
    {
     "data": {
      "image/png": "[encoded data removed]",
      "text/plain": [
       "<Figure size 432x288 with 2 Axes>"
      ]
     },
     "metadata": {},
     "output_type": "display_data"
    }
   ],
   "source": [
    "print(confuse_matrix(optimal_k,pred,y_test))"
   ]
  },
  {
   "cell_type": "markdown",
   "metadata": {},
   "source": [
    "## BAG - OF - WORDS (Bi-grams)"
   ]
  },
  {
   "cell_type": "markdown",
   "metadata": {},
   "source": [
    "we've done vectorization on uni-grams using bag-of-words.Bi-gram model will take all unique sets of adjacent two words and then count their occurrences to assign frequency"
   ]
  },
  {
   "cell_type": "code",
   "execution_count": 52,
   "metadata": {},
   "outputs": [
    {
     "name": "stdout",
     "output_type": "stream",
     "text": [
      "Train Data Size:  (3500, 107862)\n",
      "Test Data Size:  (1500, 107862)\n"
     ]
    }
   ],
   "source": [
    "X_train,X_test,y_train,y_test = train_test_split(df1['CleanedText'].values,df1['Score'].values,test_size=0.3,shuffle=False) # splitting into test and train\n",
    "# we are not using random state because we've already split  based on time\n",
    "c_vector=CountVectorizer(ngram_range=(1,2)) # intialising bow vectorizer of bi-grams\n",
    "X_train=c_vector.fit_transform(X_train) # feature extraction of X_train\n",
    "X_train=preprocessing.normalize(X_train) # normalise data\n",
    "print(\"Train Data Size: \",X_train.shape)\n",
    "X_test=c_vector.transform(X_test) # feature extraction of X_test\n",
    "X_test=preprocessing.normalize(X_test) # normalise data\n",
    "print(\"Test Data Size: \",X_test.shape)"
   ]
  },
  {
   "cell_type": "markdown",
   "metadata": {},
   "source": [
    "## Brute-force algorithm(bi-grams-BOW)"
   ]
  },
  {
   "cell_type": "code",
   "execution_count": 53,
   "metadata": {},
   "outputs": [
    {
     "name": "stdout",
     "output_type": "stream",
     "text": [
      "optimal k : {'n_neighbors': 5}  with accuracy : 84.6655231560892\n",
      "\n",
      "list of accuracies : [80.24013722 84.11663808 84.66552316 84.66552316 84.59691252 84.5626072\n",
      " 84.5626072  84.49399657 84.45969125 84.45969125 84.42538593 84.45969125\n",
      " 84.45969125 84.45969125 84.45969125 84.45969125 84.45969125 84.45969125\n",
      " 84.45969125 84.45969125 84.45969125 84.45969125 84.42538593 84.42538593\n",
      " 84.42538593]\n"
     ]
    },
    {
     "data": {
      "image/png": "[encoded data removed]",
      "text/plain": [
       "<Figure size 432x288 with 1 Axes>"
      ]
     },
     "metadata": {},
     "output_type": "display_data"
    },
    {
     "name": "stdout",
     "output_type": "stream",
     "text": [
      "time taken: 1945.3550109863281 seconds\n"
     ]
    }
   ],
   "source": [
    "start_time = time.time()\n",
    "optimal_k,accuracy,acc_scores=func_bruteforce(X_train,y_train)\n",
    "print('optimal k :',optimal_k,' with accuracy :',accuracy)\n",
    "print('\\nlist of accuracies :',acc_scores)\n",
    "plt.plot(list(range(1,50,2)),acc_scores)\n",
    "plt.xlabel('Number of Neighbors K')\n",
    "plt.ylabel('Mean Accuracies')\n",
    "plt.show()\n",
    "print(\"time taken: %s seconds\" %(time.time()-start_time))"
   ]
  },
  {
   "cell_type": "markdown",
   "metadata": {},
   "source": [
    "## test-acc on bruteforce(bi-gram)"
   ]
  },
  {
   "cell_type": "code",
   "execution_count": 54,
   "metadata": {},
   "outputs": [
    {
     "name": "stdout",
     "output_type": "stream",
     "text": [
      "\n",
      "The accuracy of the knn classifier for k = 5 is 84.466667%\n"
     ]
    }
   ],
   "source": [
    "optimal_k,acc,pred=test_acc(optimal_k['n_neighbors'],X_train,X_test)\n",
    "print('\\nThe accuracy of the knn classifier for k = %d is %f%%' % (optimal_k, acc))"
   ]
  },
  {
   "cell_type": "markdown",
   "metadata": {},
   "source": [
    "## confusion matrix (bi-grams-bruteforce)"
   ]
  },
  {
   "cell_type": "code",
   "execution_count": 56,
   "metadata": {},
   "outputs": [
    {
     "name": "stdout",
     "output_type": "stream",
     "text": [
      "accuracy we got: 84.46666666666667\n",
      "precision value : 0.8522884882108183\n",
      "recall : 0.9839871897518014\n",
      "F1-SCORE : 0.9134150873281308\n",
      "     [TN       FP] \n",
      "      [FN      TP]\n",
      "None\n"
     ]
    },
    {
     "data": {
      "image/png": "[encoded data removed]",
      "text/plain": [
       "<Figure size 432x288 with 2 Axes>"
      ]
     },
     "metadata": {},
     "output_type": "display_data"
    }
   ],
   "source": [
    "print(confuse_matrix(optimal_k,pred,y_test))"
   ]
  },
  {
   "cell_type": "markdown",
   "metadata": {},
   "source": [
    "## KD-TREE(bi-gram)"
   ]
  },
  {
   "cell_type": "code",
   "execution_count": 58,
   "metadata": {},
   "outputs": [
    {
     "name": "stdout",
     "output_type": "stream",
     "text": [
      "optimal k : {'n_neighbors': 9}  with accuracy : 84.52830188679246\n",
      "\n",
      "list of accuracies : [79.31389365 82.5728988  83.94511149 84.32246998 84.52830189 84.42538593\n",
      " 84.52830189 84.42538593 84.45969125 84.42538593 84.42538593 84.42538593\n",
      " 84.42538593 84.42538593 84.42538593 84.42538593 84.42538593 84.42538593\n",
      " 84.42538593 84.42538593 84.42538593 84.42538593 84.42538593 84.42538593\n",
      " 84.42538593]\n"
     ]
    },
    {
     "data": {
      "image/png": "[encoded data removed]",
      "text/plain": [
       "<Figure size 432x288 with 1 Axes>"
      ]
     },
     "metadata": {},
     "output_type": "display_data"
    },
    {
     "name": "stdout",
     "output_type": "stream",
     "text": [
      "time taken: 418.3834536075592 seconds\n"
     ]
    }
   ],
   "source": [
    "start_time = time.time()\n",
    "train_svd,test_svd=TSVD(X_train,X_test) # passing our vectorized array to TSVD function\n",
    "optimal_k,accuracy,acc_scores=func_kdtree(train_svd,y_train)\n",
    "print('optimal k :',optimal_k,' with accuracy :',accuracy)\n",
    "print('\\nlist of accuracies :',acc_scores)\n",
    "plt.plot(list(range(1,50,2)),acc_scores)\n",
    "plt.xlabel('Number of Neighbors K')\n",
    "plt.ylabel('Mean Accuracies')\n",
    "plt.show()\n",
    "print(\"time taken: %s seconds\" %(time.time()-start_time))"
   ]
  },
  {
   "cell_type": "markdown",
   "metadata": {},
   "source": [
    "## test-acc on kd-tree(bi-grams)"
   ]
  },
  {
   "cell_type": "code",
   "execution_count": 59,
   "metadata": {},
   "outputs": [
    {
     "name": "stdout",
     "output_type": "stream",
     "text": [
      "\n",
      "The accuracy of the knn classifier for k = 9 is 82.933333%\n"
     ]
    }
   ],
   "source": [
    "optimal_k,acc,pred=test_acc(optimal_k['n_neighbors'],train_svd,test_svd)\n",
    "print('\\nThe accuracy of the knn classifier for k = %d is %f%%' % (optimal_k, acc))"
   ]
  },
  {
   "cell_type": "markdown",
   "metadata": {},
   "source": [
    "## conf-matrix(kd-tree) on bi-grams"
   ]
  },
  {
   "cell_type": "code",
   "execution_count": 60,
   "metadata": {},
   "outputs": [
    {
     "name": "stdout",
     "output_type": "stream",
     "text": [
      "accuracy we got: 82.93333333333334\n",
      "precision value : 0.8321070234113712\n",
      "recall : 0.9959967974379503\n",
      "F1-SCORE : 0.9067055393586007\n",
      "     [TN       FP] \n",
      "      [FN      TP]\n",
      "None\n"
     ]
    },
    {
     "data": {
      "image/png": "[encoded data removed]",
      "text/plain": [
       "<Figure size 432x288 with 2 Axes>"
      ]
     },
     "metadata": {},
     "output_type": "display_data"
    }
   ],
   "source": [
    "print(confuse_matrix(optimal_k,pred,y_test))"
   ]
  },
  {
   "cell_type": "markdown",
   "metadata": {},
   "source": [
    "# observations(Accuracies on each vectorization):"
   ]
  },
  {
   "cell_type": "raw",
   "metadata": {},
   "source": [
    "                 BOW(uni-gram)    BOW(bi-gram)     TF-IDF        AVG-W2V      TF-IDF-W2V\n",
    "            \n",
    "Brute-force        83.73%            84.46%         83.93%        83.26%         83.06%\n",
    "\n",
    "KD-TREE            82.93%            82.93%         82.66%        83.26%         83.06%"
   ]
  },
  {
   "cell_type": "markdown",
   "metadata": {},
   "source": [
    "### CONCLUSIONS"
   ]
  },
  {
   "cell_type": "markdown",
   "metadata": {},
   "source": [
    "----->As observed, Highest accuracy was achieved by bag-of-words(using bi-grams), 84.46%\n",
    "\n",
    "----->For Avg-w2v and TF-IDF w2v , BRUTE-FORCE and KD-TREE yielding similar accuracies\n",
    "\n",
    "----->CV accuracy and test-accuracy doesn't changes much for same algorithm\n",
    "\n",
    "----->taking a lot of time for training(with truncated svd, it takes much more time to train)\n",
    "\n"
   ]
  }
 ],
 "metadata": {
  "kernelspec": {
   "display_name": "Python 3",
   "language": "python",
   "name": "python3"
  },
  "language_info": {
   "codemirror_mode": {
    "name": "ipython",
    "version": 3
   },
   "file_extension": ".py",
   "mimetype": "text/x-python",
   "name": "python",
   "nbconvert_exporter": "python",
   "pygments_lexer": "ipython3",
   "version": "3.6.6"
  }
 },
 "nbformat": 4,
 "nbformat_minor": 2
}
